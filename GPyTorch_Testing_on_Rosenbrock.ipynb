{
 "cells": [
  {
   "cell_type": "markdown",
   "metadata": {},
   "source": [
    "# About This Notebook\n",
    "\n",
    "# Testing efficiency of GpyTorch"
   ]
  },
  {
   "cell_type": "markdown",
   "metadata": {},
   "source": [
    "**In this notebook we will test computational efficiency of GPyTorch by varying the following parameters: number of pool points and dimensionality of the input points. There will be several experiments.**"
   ]
  },
  {
   "cell_type": "markdown",
   "metadata": {},
   "source": [
    "# Task: \n",
    "**Написать функцию, которая берет на вход train_set, pool_set и \n",
    "а) строит ГП на train_set, \n",
    "б) делает UE для pool_set**"
   ]
  },
  {
   "cell_type": "code",
   "execution_count": 1,
   "metadata": {},
   "outputs": [
    {
     "data": {
      "text/html": [
       "<script type=\"text/javascript\">window.PlotlyConfig = {MathJaxConfig: 'local'};</script><script type=\"text/javascript\">if (window.MathJax) {MathJax.Hub.Config({SVG: {font: \"STIX-Web\"}});}</script><script>requirejs.config({paths: { 'plotly': ['https://cdn.plot.ly/plotly-latest.min']},});if(!window._Plotly) {require(['plotly'],function(plotly) {window._Plotly=plotly;});}</script>"
      ],
      "text/vnd.plotly.v1+html": [
       "<script type=\"text/javascript\">window.PlotlyConfig = {MathJaxConfig: 'local'};</script><script type=\"text/javascript\">if (window.MathJax) {MathJax.Hub.Config({SVG: {font: \"STIX-Web\"}});}</script><script>requirejs.config({paths: { 'plotly': ['https://cdn.plot.ly/plotly-latest.min']},});if(!window._Plotly) {require(['plotly'],function(plotly) {window._Plotly=plotly;});}</script>"
      ]
     },
     "metadata": {},
     "output_type": "display_data"
    },
    {
     "data": {
      "text/plain": [
       "<torch._C.Generator at 0x11f64fbf0>"
      ]
     },
     "execution_count": 1,
     "metadata": {},
     "output_type": "execute_result"
    }
   ],
   "source": [
    "from matplotlib import image\n",
    "from matplotlib.pyplot import imread\n",
    "from IPython import display\n",
    "\n",
    "import os\n",
    "import time\n",
    "import math\n",
    "from copy import deepcopy\n",
    "from tqdm import tqdm_notebook\n",
    "\n",
    "from sklearn.model_selection import train_test_split\n",
    "from sklearn.utils import shuffle\n",
    "from scipy.optimize import rosen\n",
    "\n",
    "# Visualization\n",
    "import numpy as np\n",
    "import matplotlib.pyplot as plt\n",
    "%matplotlib inline\n",
    "\n",
    "import plotly\n",
    "import plotly.graph_objs as go\n",
    "\n",
    "# To plot in offline \n",
    "plotly.offline.init_notebook_mode(connected=True)\n",
    "\n",
    "\n",
    "# torch\n",
    "import torch\n",
    "import torch.nn as nn\n",
    "import torch.nn.functional as F\n",
    "from torch.autograd import Variable\n",
    "\n",
    "\n",
    "import gpytorch\n",
    "torch.random.manual_seed(123456)"
   ]
  },
  {
   "cell_type": "markdown",
   "metadata": {},
   "source": [
    "# Required Functions for model and training"
   ]
  },
  {
   "cell_type": "code",
   "execution_count": 2,
   "metadata": {},
   "outputs": [],
   "source": [
    "class GPyTorch_Framework():\n",
    "    \n",
    "    def __init__(self, X_train, y_train):\n",
    "        \n",
    "        self.X_train = X_train\n",
    "        self.y_train = y_train\n",
    "        \n",
    "        self.likelihood = gpytorch.likelihoods.GaussianLikelihood()\n",
    "        self.gp_model = GPRegressionModel(self.X_train, self.y_train, self.likelihood)\n",
    "        \n",
    "        \n",
    "    def train(self, optimizer, mll_loss, num_iters, print_iter = True):\n",
    "        \n",
    "        self.gp_model.train()\n",
    "        self.likelihood.train()\n",
    "        \n",
    "        start_time = time.time()\n",
    "        \n",
    "        for i in range(num_iters):\n",
    "\n",
    "            optimizer.zero_grad()\n",
    "            output = self.gp_model(self.X_train)\n",
    "            loss = -mll_loss(output, self.y_train)\n",
    "            loss.backward()\n",
    "            optimizer.step()    \n",
    "            \n",
    "            # Then we print the results for this epoch:\n",
    "            if print_iter:\n",
    "                print('Iter %d/%d -MLL Loss: %.3f' % (i + 1, num_iters, loss.item()))\n",
    "        \n",
    "        # TODO \n",
    "        # It is not a good idea to safe time in that way, because \n",
    "        # we will have irrelevant time when will decide to fine-train model for several epochs\n",
    "        self.training_time = time.time() - start_time\n",
    "        \n",
    "    \n",
    "    def predict_simple(self, X_pool):\n",
    "       \n",
    "        # Set into eval mode\n",
    "        self.gp_model.eval()\n",
    "        self.likelihood.eval()\n",
    "\n",
    "        with torch.no_grad():\n",
    "            start_time = time.time()\n",
    "            preds = self.gp_model(X_pool)\n",
    "            exact_covar = preds.covariance_matrix\n",
    "            exact_covar_time = time.time() - start_time\n",
    "            \n",
    "        return preds, exact_covar, exact_covar_time\n",
    "    \n",
    "    \n",
    "    def predict_fast(self, X_pool, max_root_size):\n",
    "       \n",
    "        #TODO\n",
    "        # We need to find out the difference between\n",
    "        # fast prediction with and without cashe\n",
    "        \n",
    "        # Set into eval mode\n",
    "        self.gp_model.eval()\n",
    "        self.likelihood.eval()\n",
    "\n",
    "        with torch.no_grad(), gpytorch.settings.fast_pred_var(), \\\n",
    "                                        gpytorch.settings.max_root_decomposition_size(max_root_size):\n",
    "            \n",
    "            start_time = time.time()\n",
    "            preds = self.gp_model(X_pool)\n",
    "            fast_covar = preds.covariance_matrix\n",
    "            fast_covar_time = time.time() - start_time\n",
    "            \n",
    "        return preds, fast_covar, fast_covar_time"
   ]
  },
  {
   "cell_type": "code",
   "execution_count": 3,
   "metadata": {},
   "outputs": [],
   "source": [
    "def calculate_metrics_of_similarity(exact_covar, fast_covar):\n",
    "    \n",
    "    mae = (exact_covar - fast_covar).abs().mean()\n",
    "    sq_norm = (exact_covar - fast_covar).norm()\n",
    "    \n",
    "    return mae, sq_norm"
   ]
  },
  {
   "cell_type": "code",
   "execution_count": 4,
   "metadata": {},
   "outputs": [],
   "source": [
    "class GPRegressionModel(gpytorch.models.ExactGP):\n",
    "        def __init__(self, X_train, y_train, likelihood):\n",
    "            super(GPRegressionModel, self).__init__(X_train, y_train, likelihood)\n",
    "            self.mean_module = gpytorch.means.ConstantMean()\n",
    "            self.covar_module = gpytorch.kernels.ScaleKernel(\n",
    "                gpytorch.kernels.RBFKernel()\n",
    "            )\n",
    "            \n",
    "        def forward(self, x):\n",
    "            mean_x = self.mean_module(x)\n",
    "            covar_x = self.covar_module(x)\n",
    "            return gpytorch.distributions.MultivariateNormal(mean_x, covar_x)"
   ]
  },
  {
   "cell_type": "code",
   "execution_count": 5,
   "metadata": {},
   "outputs": [],
   "source": [
    "def generate_Rosenbrock_Problem(num_points, num_dims):\n",
    "    \n",
    "    X = np.random.random((num_points, num_dims))\n",
    "    y = rosen(X.T)\n",
    "    \n",
    "    return (torch.Tensor(X), torch.Tensor(y))"
   ]
  },
  {
   "cell_type": "markdown",
   "metadata": {},
   "source": [
    "# Experiment 0\n",
    "**Just check that everything is fine.**"
   ]
  },
  {
   "cell_type": "markdown",
   "metadata": {},
   "source": [
    "# Generating Data"
   ]
  },
  {
   "cell_type": "code",
   "execution_count": 6,
   "metadata": {},
   "outputs": [
    {
     "data": {
      "text/plain": [
       "(torch.Size([100, 5]),\n",
       " torch.Size([100]),\n",
       " torch.Size([100, 5]),\n",
       " torch.Size([100]))"
      ]
     },
     "execution_count": 6,
     "metadata": {},
     "output_type": "execute_result"
    }
   ],
   "source": [
    "np.random.seed(123)\n",
    "\n",
    "num_train_points = 100\n",
    "num_pool_points = 100\n",
    "num_dims = 5\n",
    "\n",
    "X_train, y_train = generate_Rosenbrock_Problem(num_train_points, num_dims)\n",
    "X_pool, y_pool = generate_Rosenbrock_Problem(num_pool_points, num_dims)\n",
    "\n",
    "X_train.shape, y_train.shape, X_pool.shape, y_pool.shape"
   ]
  },
  {
   "cell_type": "markdown",
   "metadata": {},
   "source": [
    "# Training and Prediction"
   ]
  },
  {
   "cell_type": "code",
   "execution_count": 7,
   "metadata": {},
   "outputs": [],
   "source": [
    "gpy_torch_framework = GPyTorch_Framework(X_train, y_train)\n",
    "\n",
    "# Use the adam optimizer\n",
    "optimizer = torch.optim.Adam([\n",
    "    {'params': gpy_torch_framework.gp_model.parameters()},  # Includes GaussianLikelihood parameters\n",
    "], lr=0.1)\n",
    "\n",
    "# \"Loss\" for GPs - the marginal log likelihood\n",
    "mll = gpytorch.mlls.ExactMarginalLogLikelihood(gpy_torch_framework.likelihood, gpy_torch_framework.gp_model)"
   ]
  },
  {
   "cell_type": "code",
   "execution_count": 8,
   "metadata": {},
   "outputs": [
    {
     "name": "stdout",
     "output_type": "stream",
     "text": [
      "MAE:  26.5147705078125\n"
     ]
    }
   ],
   "source": [
    "predictions, covar_matrix, pred_time = gpy_torch_framework.predict_simple(X_pool)\n",
    "print(\"MAE: \", (predictions.mean - y_pool).abs().mean().item())"
   ]
  },
  {
   "cell_type": "code",
   "execution_count": 10,
   "metadata": {},
   "outputs": [
    {
     "name": "stdout",
     "output_type": "stream",
     "text": [
      "Iter 1/50 -MLL Loss: 882.103\n",
      "Iter 2/50 -MLL Loss: 810.552\n",
      "Iter 3/50 -MLL Loss: 750.180\n",
      "Iter 4/50 -MLL Loss: 700.232\n",
      "Iter 5/50 -MLL Loss: 657.967\n",
      "Iter 6/50 -MLL Loss: 619.441\n",
      "Iter 7/50 -MLL Loss: 582.815\n",
      "Iter 8/50 -MLL Loss: 548.437\n",
      "Iter 9/50 -MLL Loss: 517.024\n",
      "Iter 10/50 -MLL Loss: 488.882\n",
      "Iter 11/50 -MLL Loss: 463.911\n",
      "Iter 12/50 -MLL Loss: 441.704\n",
      "Iter 13/50 -MLL Loss: 421.752\n",
      "Iter 14/50 -MLL Loss: 403.659\n",
      "Iter 15/50 -MLL Loss: 387.030\n",
      "Iter 16/50 -MLL Loss: 371.693\n",
      "Iter 17/50 -MLL Loss: 357.483\n",
      "Iter 18/50 -MLL Loss: 344.323\n",
      "Iter 19/50 -MLL Loss: 332.147\n",
      "Iter 20/50 -MLL Loss: 320.941\n",
      "Iter 21/50 -MLL Loss: 310.634\n",
      "Iter 22/50 -MLL Loss: 301.185\n",
      "Iter 23/50 -MLL Loss: 292.538\n",
      "Iter 24/50 -MLL Loss: 284.598\n",
      "Iter 25/50 -MLL Loss: 277.250\n",
      "Iter 26/50 -MLL Loss: 270.443\n",
      "Iter 27/50 -MLL Loss: 264.068\n",
      "Iter 28/50 -MLL Loss: 258.096\n",
      "Iter 29/50 -MLL Loss: 252.461\n",
      "Iter 30/50 -MLL Loss: 247.125\n",
      "Iter 31/50 -MLL Loss: 242.109\n",
      "Iter 32/50 -MLL Loss: 237.394\n",
      "Iter 33/50 -MLL Loss: 232.953\n",
      "Iter 34/50 -MLL Loss: 228.819\n",
      "Iter 35/50 -MLL Loss: 224.901\n",
      "Iter 36/50 -MLL Loss: 221.207\n",
      "Iter 37/50 -MLL Loss: 217.746\n",
      "Iter 38/50 -MLL Loss: 214.436\n",
      "Iter 39/50 -MLL Loss: 211.312\n",
      "Iter 40/50 -MLL Loss: 208.315\n",
      "Iter 41/50 -MLL Loss: 205.463\n",
      "Iter 42/50 -MLL Loss: 202.726\n",
      "Iter 43/50 -MLL Loss: 200.147\n",
      "Iter 44/50 -MLL Loss: 197.630\n",
      "Iter 45/50 -MLL Loss: 195.229\n",
      "Iter 46/50 -MLL Loss: 192.927\n",
      "Iter 47/50 -MLL Loss: 190.730\n",
      "Iter 48/50 -MLL Loss: 188.599\n",
      "Iter 49/50 -MLL Loss: 186.582\n",
      "Iter 50/50 -MLL Loss: 184.634\n",
      "MAE between predictions and true labels: 24.247758865356445\n",
      "Time simple:  0.018671035766601562\n",
      "Time fast:  0.03358292579650879\n",
      "MAE between exact covar matrix and fast covar matrix: 0.0019351731752976775\n",
      "Squared Norm between exact covar matrix and fast covar matrix: 0.2785721719264984\n"
     ]
    }
   ],
   "source": [
    "gpy_torch_framework.train(optimizer, mll, 50, print_iter = True)\n",
    "\n",
    "predictions, exact_covar_matrix, pred_time = gpy_torch_framework.predict_simple(X_pool)\n",
    "fast_predictions, fast_covar_matrix, fast_pred_time = gpy_torch_framework.predict_fast(X_pool, 50)\n",
    "\n",
    "\n",
    "print(\"MAE between predictions and true labels: {}\".format( \n",
    "                          (predictions.mean - y_pool).abs().mean().item()))\n",
    "\n",
    "print(\"Time simple: \", pred_time)\n",
    "print(\"Time fast: \", fast_pred_time)\n",
    "\n",
    "mae, sq_norm = calculate_metrics_of_similarity(exact_covar_matrix, fast_covar_matrix)\n",
    "\n",
    "\n",
    "# TODO \n",
    "# Such calculating is not really relevant, because we need to take into account the sizes of matrices\n",
    "\n",
    "print('MAE between exact covar matrix and fast covar matrix: {}'.format(mae))\n",
    "print('Squared Norm between exact covar matrix and fast covar matrix: {}'.format(sq_norm))"
   ]
  },
  {
   "cell_type": "markdown",
   "metadata": {},
   "source": [
    "**As we can see, all functions works in the right way. As we can see, predictions with LOVE needed less time for computing them with a big MAE accuracy.**\n",
    "\n",
    "**And now we can write main loop for experiment, in which we compare the computational efficiency of these methods on data with different number of training points and dimnensionality of input points.**"
   ]
  },
  {
   "cell_type": "markdown",
   "metadata": {},
   "source": [
    "# Experiment 1:\n",
    "\n",
    "**In this experiment, we compare time of evaluation of covariance matrix for Test set using two approaches: without and with LOVE. We will use implemented in Gpytorch models, based on \"Constant-Time Predictions for GP\" article.:**"
   ]
  },
  {
   "cell_type": "code",
   "execution_count": 11,
   "metadata": {},
   "outputs": [
    {
     "data": {
      "text/plain": [
       "array([ 5, 11, 17, 23])"
      ]
     },
     "execution_count": 11,
     "metadata": {},
     "output_type": "execute_result"
    }
   ],
   "source": [
    "dimensions_ar = np.arange(5, 26, 6, dtype=np.int64)\n",
    "dimensions_ar"
   ]
  },
  {
   "cell_type": "code",
   "execution_count": 12,
   "metadata": {},
   "outputs": [
    {
     "data": {
      "text/plain": [
       "[10, 100, 200, 500, 1000, 2000, 3500]"
      ]
     },
     "execution_count": 12,
     "metadata": {},
     "output_type": "execute_result"
    }
   ],
   "source": [
    "#num_pool_points_ar = np.logspace(1, 5, 5, dtype=np.int64)\n",
    "num_points_ar = [10, 100, 200, 500, 1000, 2000, 3500]\n",
    "#num_train_points_ar = [10, 100, 200, 500, 1000, 2000, 5000]\n",
    "num_points_ar"
   ]
  },
  {
   "cell_type": "code",
   "execution_count": 13,
   "metadata": {},
   "outputs": [],
   "source": [
    "#dimensions_ar = [2, 4, 6]\n",
    "#num_points_ar = [10, 20, 30]"
   ]
  },
  {
   "cell_type": "code",
   "execution_count": 14,
   "metadata": {},
   "outputs": [
    {
     "data": {
      "application/vnd.jupyter.widget-view+json": {
       "model_id": "3ef768be8ea449b2a318dc6673058777",
       "version_major": 2,
       "version_minor": 0
      },
      "text/plain": [
       "HBox(children=(IntProgress(value=0, max=4), HTML(value='')))"
      ]
     },
     "metadata": {},
     "output_type": "display_data"
    },
    {
     "data": {
      "application/vnd.jupyter.widget-view+json": {
       "model_id": "3427985bf99945839cedc06c5d5f1792",
       "version_major": 2,
       "version_minor": 0
      },
      "text/plain": [
       "HBox(children=(IntProgress(value=0, max=7), HTML(value='')))"
      ]
     },
     "metadata": {},
     "output_type": "display_data"
    },
    {
     "data": {
      "application/vnd.jupyter.widget-view+json": {
       "model_id": "c3407f6c937a401796b5d305dc7f9366",
       "version_major": 2,
       "version_minor": 0
      },
      "text/plain": [
       "HBox(children=(IntProgress(value=0, max=7), HTML(value='')))"
      ]
     },
     "metadata": {},
     "output_type": "display_data"
    },
    {
     "data": {
      "application/vnd.jupyter.widget-view+json": {
       "model_id": "af7bf52917814e6b82306f0706c08a6b",
       "version_major": 2,
       "version_minor": 0
      },
      "text/plain": [
       "HBox(children=(IntProgress(value=0, max=7), HTML(value='')))"
      ]
     },
     "metadata": {},
     "output_type": "display_data"
    },
    {
     "data": {
      "application/vnd.jupyter.widget-view+json": {
       "model_id": "5a4630313291476c9fc870418c1e9f16",
       "version_major": 2,
       "version_minor": 0
      },
      "text/plain": [
       "HBox(children=(IntProgress(value=0, max=7), HTML(value='')))"
      ]
     },
     "metadata": {},
     "output_type": "display_data"
    },
    {
     "name": "stdout",
     "output_type": "stream",
     "text": [
      "\n"
     ]
    }
   ],
   "source": [
    "num_iters = 25\n",
    "\n",
    "time_training = {}\n",
    "time_simple_results = {}\n",
    "time_fast_results = {}\n",
    "\n",
    "mae_scores_results = {}\n",
    "sq_norm_scores_results = {}\n",
    "\n",
    "for num_dims in tqdm_notebook(dimensions_ar):\n",
    "    \n",
    "    cur_time_training = []\n",
    "    cur_time_simple = []\n",
    "    cur_time_fast = []\n",
    "    \n",
    "    cur_mae = []\n",
    "    cur_sq_norm = []\n",
    "    \n",
    "    for num_points in tqdm_notebook(num_points_ar):\n",
    "        \n",
    "        X_train, y_train = generate_Rosenbrock_Problem(num_points, num_dims)\n",
    "        X_pool, y_pool = generate_Rosenbrock_Problem(num_points, num_dims)\n",
    "        \n",
    "        gpy_torch_framework = GPyTorch_Framework(X_train, y_train)\n",
    "    \n",
    "        optimizer = torch.optim.Adam([{'params': gpy_torch_framework.gp_model.parameters()}], lr=0.1)\n",
    "        mll = gpytorch.mlls.ExactMarginalLogLikelihood(gpy_torch_framework.likelihood, \n",
    "                                                               gpy_torch_framework.gp_model)\n",
    "        \n",
    "        \n",
    "        gpy_torch_framework.train(optimizer, mll, 50, print_iter = False)\n",
    "\n",
    "        predictions, exact_covar_matrix, pred_time = gpy_torch_framework.predict_simple(X_pool)\n",
    "        fast_predictions, fast_covar_matrix, fast_pred_time = gpy_torch_framework.predict_fast(X_pool, 50)\n",
    "        \n",
    "        \n",
    "        mae, sq_norm = calculate_metrics_of_similarity(exact_covar_matrix, fast_covar_matrix)\n",
    "        \n",
    "        cur_time_training.append(gpy_torch_framework.training_time)\n",
    "        cur_time_simple.append(pred_time)\n",
    "        cur_time_fast.append(fast_pred_time)\n",
    "        \n",
    "        cur_mae.append(mae)\n",
    "        cur_sq_norm.append(sq_norm)\n",
    "        \n",
    "    time_training[num_dims] = cur_time_training\n",
    "    time_simple_results[num_dims] = cur_time_simple\n",
    "    time_fast_results[num_dims] = cur_time_fast\n",
    "\n",
    "    mae_scores_results[num_dims] = cur_mae\n",
    "    sq_norm_scores_results[num_dims] = cur_sq_norm"
   ]
  },
  {
   "cell_type": "code",
   "execution_count": 45,
   "metadata": {},
   "outputs": [
    {
     "data": {
      "image/png": "[encoded data removed]",
      "text/plain": [
       "<Figure size 1440x720 with 2 Axes>"
      ]
     },
     "metadata": {
      "needs_background": "light"
     },
     "output_type": "display_data"
    }
   ],
   "source": [
    "fig = plt.figure(figsize=(20, 10))\n",
    "\n",
    "\n",
    "ax1 = fig.add_subplot(121)\n",
    "ax1.set_title(\"Training Time\")\n",
    "ax1.set_xlabel(\"Number of points in Train and Pool sets\")\n",
    "ax1.set_ylabel(\"Time\")\n",
    "\n",
    "for num_dims in dimensions_ar:\n",
    "    ax1.plot(num_points_ar, time_training[num_dims], ls = '--', label = \"n = {}\".format(num_dims))\n",
    "\n",
    "    \n",
    "ax2 = fig.add_subplot(122)\n",
    "ax2.set_title(\"Prediction Time\")\n",
    "ax2.set_xlabel(\"Number of points in Train and Pool sets\")\n",
    "ax2.set_ylabel(\"Time\")\n",
    "\n",
    "\n",
    "for num_dims in dimensions_ar:\n",
    "    ax2.plot(num_points_ar, time_simple_results[num_dims], ls = '--', label = \"Simple, n = {}\".format(num_dims))\n",
    "    ax2.plot(num_points_ar, time_fast_results[num_dims], ls = '--', label = \"Fast, n = {}\".format(num_dims))\n",
    "\n",
    "plt.xlabel(\"Number of points in Train and Pool sets\")\n",
    "plt.ylabel(\"Time\")\n",
    "plt.legend()\n",
    "plt.show()"
   ]
  },
  {
   "cell_type": "code",
   "execution_count": null,
   "metadata": {},
   "outputs": [],
   "source": []
  }
 ],
 "metadata": {
  "kernelspec": {
   "display_name": "Python 3",
   "language": "python",
   "name": "python3"
  },
  "language_info": {
   "codemirror_mode": {
    "name": "ipython",
    "version": 3
   },
   "file_extension": ".py",
   "mimetype": "text/x-python",
   "name": "python",
   "nbconvert_exporter": "python",
   "pygments_lexer": "ipython3",
   "version": "3.6.7"
  }
 },
 "nbformat": 4,
 "nbformat_minor": 2
}
