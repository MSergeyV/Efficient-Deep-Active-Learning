{
 "cells": [
  {
   "cell_type": "markdown",
   "metadata": {},
   "source": [
    "# About This Notebook\n",
    "\n",
    "# Efficient Deep Active Learning (EDAL)"
   ]
  },
  {
   "cell_type": "markdown",
   "metadata": {},
   "source": [
    "**In this notebook we will do several experiments related to the problem for efficient Active Learning. More precicely, we will consider Resenbrock2000D problem. As for acquisition function, we take Maximum Variance. For now, we will just use Gpytorch library, that provide us powefull and commputationally efficeint implementation of Gaussian Processes on Pytorch. We compare simple GP and GP with Neural Network. For predictive purposes, we will use LOVE method.**\n",
    "\n",
    "<img src=\"EDAL.jpg\">"
   ]
  },
  {
   "cell_type": "markdown",
   "metadata": {},
   "source": [
    "# Note\n",
    "\n",
    "**As I dont have enough computational power, I had to consider problem with less dimensionality (Rosenbrock20D)**"
   ]
  },
  {
   "cell_type": "code",
   "execution_count": 1,
   "metadata": {},
   "outputs": [],
   "source": [
    "from matplotlib import image\n",
    "from matplotlib.pyplot import imread\n",
    "from IPython import display\n",
    "\n",
    "import os\n",
    "import time\n",
    "import math\n",
    "from copy import deepcopy\n",
    "\n",
    "from sklearn.model_selection import train_test_split\n",
    "from sklearn.utils import shuffle\n",
    "from scipy.optimize import rosen\n",
    "\n",
    "import numpy as np\n",
    "import matplotlib.pyplot as plt\n",
    "%matplotlib inline\n",
    "\n",
    "# torch\n",
    "import torch\n",
    "import torch.nn as nn\n",
    "import torch.nn.functional as F\n",
    "from torch.autograd import Variable\n",
    "\n",
    "\n",
    "import gpytorch"
   ]
  },
  {
   "cell_type": "markdown",
   "metadata": {},
   "source": [
    "# Generating Data"
   ]
  },
  {
   "cell_type": "code",
   "execution_count": 2,
   "metadata": {},
   "outputs": [],
   "source": [
    "np.random.seed(123)\n",
    "\n",
    "num_train_points = 1000\n",
    "num_test_points = 100\n",
    "num_dims = 20\n",
    "\n",
    "X = np.random.random((num_train_points, num_dims))\n",
    "#y = rosen(X.T).reshape(-1, 1)\n",
    "y = rosen(X.T)\n",
    "\n",
    "X_train, X_query, y_train, y_query = train_test_split(X, y, test_size = 0.9)\n",
    "\n",
    "\n",
    "X_test = np.random.random((num_test_points, num_dims))\n",
    "y_test = rosen(X_test.T).reshape(-1, 1)"
   ]
  },
  {
   "cell_type": "code",
   "execution_count": 3,
   "metadata": {},
   "outputs": [
    {
     "data": {
      "text/plain": [
       "((100, 20), (100,), (900, 20), (900,), (100, 20), (100, 1))"
      ]
     },
     "execution_count": 3,
     "metadata": {},
     "output_type": "execute_result"
    }
   ],
   "source": [
    "X_train.shape, y_train.shape, X_query.shape, y_query.shape, X_test.shape, y_test.shape"
   ]
  },
  {
   "cell_type": "code",
   "execution_count": 4,
   "metadata": {},
   "outputs": [
    {
     "data": {
      "text/plain": [
       "(torch.Size([100, 20]),\n",
       " torch.Size([100]),\n",
       " torch.Size([900, 20]),\n",
       " torch.Size([900]),\n",
       " torch.Size([100, 20]),\n",
       " torch.Size([100, 1]))"
      ]
     },
     "execution_count": 4,
     "metadata": {},
     "output_type": "execute_result"
    }
   ],
   "source": [
    "X_train = torch.Tensor(X_train)\n",
    "y_train = torch.Tensor(y_train)\n",
    "\n",
    "X_query = torch.Tensor(X_query)\n",
    "y_query = torch.Tensor(y_query)\n",
    "\n",
    "X_test = torch.Tensor(X_test)\n",
    "y_test = torch.Tensor(y_test)\n",
    "\n",
    "X_train.shape, y_train.shape, X_query.shape, y_query.shape, X_test.shape, y_test.shape"
   ]
  },
  {
   "cell_type": "code",
   "execution_count": 5,
   "metadata": {},
   "outputs": [],
   "source": [
    "class GPRegressionModel(gpytorch.models.ExactGP):\n",
    "        def __init__(self, train_x, train_y, likelihood):\n",
    "            super(GPRegressionModel, self).__init__(train_x, train_y, likelihood)\n",
    "            self.mean_module = gpytorch.means.ConstantMean()\n",
    "            self.covar_module = gpytorch.kernels.ScaleKernel(\n",
    "                gpytorch.kernels.RBFKernel()\n",
    "            )\n",
    "            \n",
    "        def forward(self, x):\n",
    "            mean_x = self.mean_module(x)\n",
    "            covar_x = self.covar_module(x)\n",
    "            return gpytorch.distributions.MultivariateNormal(mean_x, covar_x)"
   ]
  },
  {
   "cell_type": "code",
   "execution_count": 6,
   "metadata": {},
   "outputs": [],
   "source": [
    "def train():\n",
    "    \n",
    "    for i in range(training_iterations):\n",
    "        \n",
    "        optimizer.zero_grad()\n",
    "        output = model(X_train)\n",
    "        loss = -mll(output, y_train)\n",
    "        loss.backward()\n",
    "        optimizer.step()    \n",
    "        \n",
    "        # Then we print the results for this epoch:\n",
    "        print('Iter %d/%d -MLL Loss: %.3f' % (i + 1, training_iterations, loss.item()))"
   ]
  },
  {
   "cell_type": "markdown",
   "metadata": {},
   "source": [
    "# First Train "
   ]
  },
  {
   "cell_type": "code",
   "execution_count": 7,
   "metadata": {},
   "outputs": [],
   "source": [
    "likelihood = gpytorch.likelihoods.GaussianLikelihood()\n",
    "model = GPRegressionModel(X_train, y_train, likelihood)"
   ]
  },
  {
   "cell_type": "code",
   "execution_count": 8,
   "metadata": {},
   "outputs": [],
   "source": [
    "# Find optimal model hyperparameters\n",
    "model.train()\n",
    "likelihood.train()\n",
    "\n",
    "# Use the adam optimizer\n",
    "optimizer = torch.optim.Adam([\n",
    "    {'params': model.parameters()},  # Includes GaussianLikelihood parameters\n",
    "], lr=0.1)\n",
    "\n",
    "# \"Loss\" for GPs - the marginal log likelihood\n",
    "mll = gpytorch.mlls.ExactMarginalLogLikelihood(likelihood, model)\n",
    "\n",
    "training_iterations = 20"
   ]
  },
  {
   "cell_type": "code",
   "execution_count": 9,
   "metadata": {
    "scrolled": true
   },
   "outputs": [
    {
     "name": "stdout",
     "output_type": "stream",
     "text": [
      "Iter 1/20 -MLL Loss: 29224.348\n",
      "Iter 2/20 -MLL Loss: 23368.119\n",
      "Iter 3/20 -MLL Loss: 19026.561\n",
      "Iter 4/20 -MLL Loss: 15837.443\n",
      "Iter 5/20 -MLL Loss: 13481.152\n",
      "Iter 6/20 -MLL Loss: 11713.499\n",
      "Iter 7/20 -MLL Loss: 10360.667\n",
      "Iter 8/20 -MLL Loss: 9302.833\n",
      "Iter 9/20 -MLL Loss: 8458.027\n",
      "Iter 10/20 -MLL Loss: 7770.067\n",
      "Iter 11/20 -MLL Loss: 7199.867\n",
      "Iter 12/20 -MLL Loss: 6719.903\n",
      "Iter 13/20 -MLL Loss: 6310.382\n",
      "Iter 14/20 -MLL Loss: 5956.862\n",
      "Iter 15/20 -MLL Loss: 5648.568\n",
      "Iter 16/20 -MLL Loss: 5377.352\n",
      "Iter 17/20 -MLL Loss: 5136.939\n",
      "Iter 18/20 -MLL Loss: 4922.389\n",
      "Iter 19/20 -MLL Loss: 4729.797\n",
      "Iter 20/20 -MLL Loss: 4556.024\n",
      "CPU times: user 859 ms, sys: 12.2 ms, total: 871 ms\n",
      "Wall time: 340 ms\n"
     ]
    }
   ],
   "source": [
    "%time train()"
   ]
  },
  {
   "cell_type": "code",
   "execution_count": 10,
   "metadata": {},
   "outputs": [],
   "source": [
    "# Set into eval mode\n",
    "model.eval()\n",
    "likelihood.eval()\n",
    "\n",
    "with torch.no_grad():\n",
    "    start_time = time.time()\n",
    "    preds = model(X_query)\n",
    "    exact_covar = preds.covariance_matrix\n",
    "    exact_covar_time = time.time() - start_time"
   ]
  },
  {
   "cell_type": "code",
   "execution_count": 11,
   "metadata": {},
   "outputs": [
    {
     "name": "stdout",
     "output_type": "stream",
     "text": [
      "Time to compute exact mean + covariances: 0.15s\n"
     ]
    }
   ],
   "source": [
    "print('Time to compute exact mean + covariances: {:.2f}s'.format(exact_covar_time))"
   ]
  },
  {
   "cell_type": "code",
   "execution_count": 12,
   "metadata": {},
   "outputs": [],
   "source": [
    "with torch.no_grad(), gpytorch.settings.fast_pred_var(), gpytorch.settings.max_root_decomposition_size(25):\n",
    "    start_time = time.time()\n",
    "    preds = model(X_test)\n",
    "    fast_covar = preds.covariance_matrix\n",
    "    fast_time_with_cache = time.time() - start_time"
   ]
  },
  {
   "cell_type": "code",
   "execution_count": 13,
   "metadata": {},
   "outputs": [
    {
     "name": "stdout",
     "output_type": "stream",
     "text": [
      "Time to compute mean + covariances (with cache) 0.02s\n"
     ]
    }
   ],
   "source": [
    "print('Time to compute mean + covariances (with cache) {:.2f}s'.format(fast_time_with_cache))"
   ]
  },
  {
   "cell_type": "code",
   "execution_count": 14,
   "metadata": {},
   "outputs": [],
   "source": [
    "def Max_Variance_Query_Function(model, likelihood, q_batch, mode):\n",
    "    \n",
    "    # Set into eval mode\n",
    "    model.eval()\n",
    "    likelihood.eval()\n",
    "    \n",
    "    if mode == 'simple':\n",
    "        with torch.no_grad():\n",
    "            start_time = time.time()\n",
    "            preds = model(X_query)\n",
    "            exact_covar = preds.covariance_matrix\n",
    "            exact_covar_time = time.time() - start_time\n",
    "        return torch.sort(torch.diag(exact_covar), descending=True)[1][:q_batch], exact_covar_time   \n",
    "    \n",
    "    elif mode == 'fast':\n",
    "        with torch.no_grad(), gpytorch.settings.fast_pred_var(), gpytorch.settings.max_root_decomposition_size(500):\n",
    "            start_time = time.time()\n",
    "            preds = model(test_x)\n",
    "            fast_covar = preds.covariance_matrix\n",
    "            fast_covar_time_without_cashe = time.time() - start_time\n",
    "        \n",
    "        return torch.sort(torch.diag(fast_covar), descending=True)[1][:q_batch], fast_covar_time_without_cashe\n",
    "    \n",
    "    else:\n",
    "        raise Exception(\"Check mode: simple or fast only\")"
   ]
  },
  {
   "cell_type": "markdown",
   "metadata": {},
   "source": [
    "# Active Learning"
   ]
  },
  {
   "cell_type": "code",
   "execution_count": 15,
   "metadata": {},
   "outputs": [],
   "source": [
    "X_train_copy = deepcopy(X_train)\n",
    "y_train_copy = deepcopy(y_train)\n",
    "\n",
    "X_query_copy = deepcopy(X_query)\n",
    "y_query_copy = deepcopy(y_query)"
   ]
  },
  {
   "cell_type": "code",
   "execution_count": 16,
   "metadata": {},
   "outputs": [],
   "source": [
    "X_train = deepcopy(X_train_copy)\n",
    "y_train= deepcopy(y_train_copy)\n",
    "\n",
    "X_query = deepcopy(X_query_copy)\n",
    "y_query = deepcopy(y_query_copy)"
   ]
  },
  {
   "cell_type": "markdown",
   "metadata": {},
   "source": [
    "# With descending = True, decompose parameter = 500"
   ]
  },
  {
   "cell_type": "code",
   "execution_count": 17,
   "metadata": {},
   "outputs": [],
   "source": [
    "likelihood = gpytorch.likelihoods.GaussianLikelihood()\n",
    "model = GPRegressionModel(X_train, y_train, likelihood)"
   ]
  },
  {
   "cell_type": "code",
   "execution_count": 18,
   "metadata": {},
   "outputs": [],
   "source": [
    "# Find optimal model hyperparameters\n",
    "model.train()\n",
    "likelihood.train()\n",
    "\n",
    "# Use the adam optimizer\n",
    "optimizer = torch.optim.Adam([\n",
    "    {'params': model.parameters()},  # Includes GaussianLikelihood parameters\n",
    "], lr=0.1)\n",
    "\n",
    "# \"Loss\" for GPs - the marginal log likelihood\n",
    "mll = gpytorch.mlls.ExactMarginalLogLikelihood(likelihood, model)\n",
    "\n",
    "training_iterations = 20"
   ]
  },
  {
   "cell_type": "code",
   "execution_count": 19,
   "metadata": {
    "scrolled": true
   },
   "outputs": [
    {
     "name": "stdout",
     "output_type": "stream",
     "text": [
      "Iter 1/20 -MLL Loss: 29224.363\n",
      "Iter 2/20 -MLL Loss: 23368.131\n",
      "Iter 3/20 -MLL Loss: 19026.543\n",
      "Iter 4/20 -MLL Loss: 15837.434\n",
      "Iter 5/20 -MLL Loss: 13481.155\n",
      "Iter 6/20 -MLL Loss: 11713.501\n",
      "Iter 7/20 -MLL Loss: 10360.668\n",
      "Iter 8/20 -MLL Loss: 9302.812\n",
      "Iter 9/20 -MLL Loss: 8458.036\n",
      "Iter 10/20 -MLL Loss: 7770.074\n",
      "Iter 11/20 -MLL Loss: 7199.868\n",
      "Iter 12/20 -MLL Loss: 6719.900\n",
      "Iter 13/20 -MLL Loss: 6310.371\n",
      "Iter 14/20 -MLL Loss: 5956.849\n",
      "Iter 15/20 -MLL Loss: 5648.564\n",
      "Iter 16/20 -MLL Loss: 5377.356\n",
      "Iter 17/20 -MLL Loss: 5136.946\n",
      "Iter 18/20 -MLL Loss: 4922.383\n",
      "Iter 19/20 -MLL Loss: 4729.788\n",
      "Iter 20/20 -MLL Loss: 4556.029\n",
      "CPU times: user 844 ms, sys: 9.92 ms, total: 854 ms\n",
      "Wall time: 313 ms\n"
     ]
    }
   ],
   "source": [
    "%time train()"
   ]
  },
  {
   "cell_type": "code",
   "execution_count": null,
   "metadata": {},
   "outputs": [],
   "source": []
  },
  {
   "cell_type": "code",
   "execution_count": 21,
   "metadata": {},
   "outputs": [
    {
     "data": {
      "image/png": "[encoded data removed]",
      "text/plain": [
       "<Figure size 576x432 with 1 Axes>"
      ]
     },
     "metadata": {
      "needs_background": "light"
     },
     "output_type": "display_data"
    },
    {
     "name": "stdout",
     "output_type": "stream",
     "text": [
      "Epoch 50 of 50 took 5.121s\n",
      "RMSE metrics: \t106.513756\n",
      "MAE megrics: \t87.051537\n"
     ]
    }
   ],
   "source": [
    "budget = 50\n",
    "q_batch = 10\n",
    "mode = 'simple'\n",
    "training_iterations = 60\n",
    "\n",
    "times = []\n",
    "rmse_metrics = []\n",
    "mae_metrics = []\n",
    "\n",
    "for budget_iter in range(0, budget):    \n",
    "    \n",
    "    al_start_time = time.time()\n",
    "    \n",
    "    if len(X_query) == 0:\n",
    "        break\n",
    "    \n",
    "    # Get query points\n",
    "    if q_batch < len(X_query):\n",
    "        query_points, query_time = Max_Variance_Query_Function(model, likelihood, q_batch, mode)\n",
    "    \n",
    "    else:\n",
    "        query_points, query_time = Max_Variance_Query_Function(model, likelihood, len(X_query), mode)\n",
    "\n",
    "    \n",
    "    times.append(query_time)\n",
    "    \n",
    "    # Add query_points to Train set\n",
    "    X_train = torch.cat((X_train, X_query[query_points]), 0)\n",
    "    y_train = torch.cat((y_train, y_query[query_points]), 0)\n",
    "    \n",
    "    # Delete points from Query Set\n",
    "    # Is any opportunity to do it in anothe way?        \n",
    "    mask = torch.ones(len(X_query), dtype=torch.uint8)\n",
    "    mask[query_points] = 0\n",
    "    X_query = X_query[mask, ...]\n",
    "        \n",
    "    \n",
    "    # Creating model\n",
    "    likelihood = gpytorch.likelihoods.GaussianLikelihood()\n",
    "    model = GPRegressionModel(X_train, y_train, likelihood)\n",
    "    \n",
    "    # Training\n",
    "    # Find optimal model hyperparameters\n",
    "    model.train()\n",
    "    likelihood.train()\n",
    "\n",
    "    # Use the adam optimizer \n",
    "    # Includes GaussianLikelihood parameters\n",
    "    optimizer = torch.optim.Adam([{'params': model.parameters()}], lr=0.1)\n",
    "\n",
    "    # \"Loss\" for GPs - the marginal log likelihood\n",
    "    mll = gpytorch.mlls.ExactMarginalLogLikelihood(likelihood, model)\n",
    "    \n",
    "    train()\n",
    "    \n",
    "    # Calculate Covariance for test points using simple SKI\n",
    "    \n",
    "    # Set into eval mode\n",
    "    model.eval()\n",
    "    likelihood.eval()\n",
    "\n",
    "    with torch.no_grad():\n",
    "        preds = model(X_test)\n",
    "        \n",
    "    # calculate metrics\n",
    "    rmse = torch.sqrt(torch.mean(torch.pow(preds.mean - y_test, 2)))\n",
    "    rmse_metrics.append(rmse)\n",
    "    \n",
    "    \n",
    "    mae = torch.mean(torch.abs(preds.mean - y_test))\n",
    "    mae_metrics.append(mae)\n",
    "    \n",
    "    print('Test RMSE: {}'.format(rmse))\n",
    "    print('Test MAE: {}'.format(mae))\n",
    "    \n",
    "    \n",
    "    # Visualize\n",
    "    display.clear_output(wait=True)\n",
    "    plt.figure(figsize=(8, 6))\n",
    "\n",
    "    plt.title(\"Metrics on Test Set\")\n",
    "    plt.xlabel(\"number of AL iterations\")\n",
    "    plt.ylabel(\"Metrics\")\n",
    "    #plt.yscale('log')\n",
    "    plt.plot(rmse_metrics, 'b', label = \"RMSE\")\n",
    "    plt.plot(mae_metrics, 'r', label = \"MAE\")\n",
    "    plt.legend()\n",
    "    plt.show()\n",
    "\n",
    "    # Then we print the results for this epoch:\n",
    "    print(\"Epoch {} of {} took {:.3f}s\".format(budget_iter + 1, \n",
    "            np.minimum(math.ceil(len(X_query_copy) // q_batch), budget), \n",
    "            time.time() - al_start_time))\n",
    "    print(\"RMSE metrics: \\t{:.6f}\".format(rmse_metrics[-1]))\n",
    "    print(\"MAE megrics: \\t{:.6f}\".format(mae_metrics[-1]))\n",
    "    \n",
    "    # Save\n",
    "    #torch.save({'state_dict': model.state_dict()}, 'checkpoint.pth.tar')\n",
    "    #np.save(\"train_loss_per_epoch\", train_loss_per_epoch)\n",
    "    #np.save(\"val_loss_per_epoch\", val_loss_per_epoch)"
   ]
  },
  {
   "cell_type": "markdown",
   "metadata": {},
   "source": [
    "# With descending = True, decompose parameter = 25"
   ]
  },
  {
   "cell_type": "code",
   "execution_count": 17,
   "metadata": {},
   "outputs": [
    {
     "data": {
      "image/png": "[encoded data removed]",
      "text/plain": [
       "<Figure size 576x432 with 1 Axes>"
      ]
     },
     "metadata": {
      "needs_background": "light"
     },
     "output_type": "display_data"
    },
    {
     "name": "stdout",
     "output_type": "stream",
     "text": [
      "Epoch 90 of 90 took 5.625s\n",
      "RMSE metrics: \t104.628372\n",
      "MAE megrics: \t85.184891\n"
     ]
    }
   ],
   "source": [
    "budget = 1000\n",
    "q_batch = 10\n",
    "mode = 'simple'\n",
    "training_iterations = 25\n",
    "\n",
    "times = []\n",
    "rmse_metrics = []\n",
    "mae_metrics = []\n",
    "\n",
    "for budget_iter in range(0, budget):    \n",
    "    \n",
    "    al_start_time = time.time()\n",
    "    \n",
    "    if len(X_query) == 0:\n",
    "        break\n",
    "    \n",
    "    # Get query points\n",
    "    if q_batch < len(X_query):\n",
    "        query_points, query_time = Max_Variance_Query_Function(model, likelihood, q_batch, mode)\n",
    "    \n",
    "    else:\n",
    "        query_points, query_time = Max_Variance_Query_Function(model, likelihood, len(X_query), mode)\n",
    "\n",
    "    \n",
    "    times.append(query_time)\n",
    "    \n",
    "    # Add query_points to Train set\n",
    "    X_train = torch.cat((X_train, X_query[query_points]), 0)\n",
    "    y_train = torch.cat((y_train, y_query[query_points]), 0)\n",
    "    \n",
    "    # Delete points from Query Set\n",
    "    # Is any opportunity to do it in anothe way?\n",
    "    #if q_batch < len(X_query):\n",
    "    #    X_query = torch.Tensor()\n",
    "    \n",
    "    #else:\n",
    "        #query_index_set = set(np.arange(len(X_query)))\n",
    "        #query_points_set = set(query_points.numpy())\n",
    "        \n",
    "    mask = torch.ones(len(X_query), dtype=torch.uint8)\n",
    "    mask[query_points] = 0\n",
    "    X_query = X_query[mask, ...]\n",
    "        \n",
    "    \n",
    "    # Creating model\n",
    "    likelihood = gpytorch.likelihoods.GaussianLikelihood()\n",
    "    model = GPRegressionModel(X_train, y_train, likelihood)\n",
    "    \n",
    "    # Training\n",
    "    # Find optimal model hyperparameters\n",
    "    model.train()\n",
    "    likelihood.train()\n",
    "\n",
    "    # Use the adam optimizer \n",
    "    # Includes GaussianLikelihood parameters\n",
    "    optimizer = torch.optim.Adam([{'params': model.parameters()}], lr=0.1)\n",
    "\n",
    "    # \"Loss\" for GPs - the marginal log likelihood\n",
    "    mll = gpytorch.mlls.ExactMarginalLogLikelihood(likelihood, model)\n",
    "    \n",
    "    train()\n",
    "    \n",
    "    # Calculate Covariance for test points using simple SKI\n",
    "    \n",
    "    # Set into eval mode\n",
    "    model.eval()\n",
    "    likelihood.eval()\n",
    "\n",
    "    with torch.no_grad():\n",
    "        preds = model(X_test)\n",
    "        \n",
    "    # calculate metrics\n",
    "    rmse = torch.sqrt(torch.mean(torch.pow(preds.mean - y_test, 2)))\n",
    "    rmse_metrics.append(rmse)\n",
    "    \n",
    "    \n",
    "    mae = torch.mean(torch.abs(preds.mean - y_test))\n",
    "    mae_metrics.append(mae)\n",
    "    \n",
    "    print('Test RMSE: {}'.format(rmse))\n",
    "    print('Test MAE: {}'.format(mae))\n",
    "    \n",
    "    \n",
    "    # Visualize\n",
    "    display.clear_output(wait=True)\n",
    "    plt.figure(figsize=(8, 6))\n",
    "\n",
    "    plt.title(\"Metrics on Test Set\")\n",
    "    plt.xlabel(\"number of AL iterations\")\n",
    "    plt.ylabel(\"Metrics\")\n",
    "    #plt.yscale('log')\n",
    "    plt.plot(rmse_metrics, 'b', label = \"RMSE\")\n",
    "    plt.plot(mae_metrics, 'r', label = \"MAE\")\n",
    "    plt.legend()\n",
    "    plt.show()\n",
    "\n",
    "    # Then we print the results for this epoch:\n",
    "    print(\"Epoch {} of {} took {:.3f}s\".format(budget_iter + 1, \n",
    "            np.minimum(math.ceil(len(X_query_copy) // q_batch), math.ceil(budget // q_batch)), \n",
    "            time.time() - al_start_time))\n",
    "    print(\"RMSE metrics: \\t{:.6f}\".format(rmse_metrics[-1]))\n",
    "    print(\"MAE megrics: \\t{:.6f}\".format(mae_metrics[-1]))\n",
    "    \n",
    "    # Save\n",
    "    #torch.save({'state_dict': model.state_dict()}, 'checkpoint.pth.tar')\n",
    "    #np.save(\"train_loss_per_epoch\", train_loss_per_epoch)\n",
    "    #np.save(\"val_loss_per_epoch\", val_loss_per_epoch)"
   ]
  },
  {
   "cell_type": "code",
   "execution_count": null,
   "metadata": {},
   "outputs": [],
   "source": []
  },
  {
   "cell_type": "code",
   "execution_count": null,
   "metadata": {},
   "outputs": [],
   "source": []
  },
  {
   "cell_type": "markdown",
   "metadata": {},
   "source": [
    "# With descending = False, decompose parameter = 25"
   ]
  },
  {
   "cell_type": "code",
   "execution_count": 17,
   "metadata": {},
   "outputs": [
    {
     "data": {
      "image/png": "[encoded data removed]",
      "text/plain": [
       "<Figure size 576x432 with 1 Axes>"
      ]
     },
     "metadata": {
      "needs_background": "light"
     },
     "output_type": "display_data"
    },
    {
     "name": "stdout",
     "output_type": "stream",
     "text": [
      "Epoch 90 of 90 took 5.298s\n",
      "RMSE metrics: \t103.498032\n",
      "MAE megrics: \t83.948875\n"
     ]
    }
   ],
   "source": [
    "budget = 1000\n",
    "q_batch = 10\n",
    "mode = 'simple'\n",
    "training_iterations = 25\n",
    "\n",
    "times = []\n",
    "rmse_metrics = []\n",
    "mae_metrics = []\n",
    "\n",
    "for budget_iter in range(0, budget):    \n",
    "    \n",
    "    al_start_time = time.time()\n",
    "    \n",
    "    if len(X_query) == 0:\n",
    "        break\n",
    "    \n",
    "    # Get query points\n",
    "    if q_batch < len(X_query):\n",
    "        query_points, query_time = Max_Variance_Query_Function(model, likelihood, q_batch, mode)\n",
    "    \n",
    "    else:\n",
    "        query_points, query_time = Max_Variance_Query_Function(model, likelihood, len(X_query), mode)\n",
    "\n",
    "    \n",
    "    times.append(query_time)\n",
    "    \n",
    "    # Add query_points to Train set\n",
    "    X_train = torch.cat((X_train, X_query[query_points]), 0)\n",
    "    y_train = torch.cat((y_train, y_query[query_points]), 0)\n",
    "    \n",
    "    # Delete points from Query Set\n",
    "    # Is any opportunity to do it in anothe way?\n",
    "    #if q_batch < len(X_query):\n",
    "    #    X_query = torch.Tensor()\n",
    "    \n",
    "    #else:\n",
    "        #query_index_set = set(np.arange(len(X_query)))\n",
    "        #query_points_set = set(query_points.numpy())\n",
    "        \n",
    "    mask = torch.ones(len(X_query), dtype=torch.uint8)\n",
    "    mask[query_points] = 0\n",
    "    X_query = X_query[mask, ...]\n",
    "        \n",
    "    \n",
    "    # Creating model\n",
    "    likelihood = gpytorch.likelihoods.GaussianLikelihood()\n",
    "    model = GPRegressionModel(X_train, y_train, likelihood)\n",
    "    \n",
    "    # Training\n",
    "    # Find optimal model hyperparameters\n",
    "    model.train()\n",
    "    likelihood.train()\n",
    "\n",
    "    # Use the adam optimizer \n",
    "    # Includes GaussianLikelihood parameters\n",
    "    optimizer = torch.optim.Adam([{'params': model.parameters()}], lr=0.1)\n",
    "\n",
    "    # \"Loss\" for GPs - the marginal log likelihood\n",
    "    mll = gpytorch.mlls.ExactMarginalLogLikelihood(likelihood, model)\n",
    "    \n",
    "    train()\n",
    "    \n",
    "    # Calculate Covariance for test points using simple SKI\n",
    "    \n",
    "    # Set into eval mode\n",
    "    model.eval()\n",
    "    likelihood.eval()\n",
    "\n",
    "    with torch.no_grad():\n",
    "        preds = model(X_test)\n",
    "        \n",
    "    # calculate metrics\n",
    "    rmse = torch.sqrt(torch.mean(torch.pow(preds.mean - y_test, 2)))\n",
    "    rmse_metrics.append(rmse)\n",
    "    \n",
    "    \n",
    "    mae = torch.mean(torch.abs(preds.mean - y_test))\n",
    "    mae_metrics.append(mae)\n",
    "    \n",
    "    print('Test RMSE: {}'.format(rmse))\n",
    "    print('Test MAE: {}'.format(mae))\n",
    "    \n",
    "    \n",
    "    # Visualize\n",
    "    display.clear_output(wait=True)\n",
    "    plt.figure(figsize=(8, 6))\n",
    "\n",
    "    plt.title(\"Metrics on Test Set\")\n",
    "    plt.xlabel(\"number of AL iterations\")\n",
    "    plt.ylabel(\"Metrics\")\n",
    "    #plt.yscale('log')\n",
    "    plt.plot(rmse_metrics, 'b', label = \"RMSE\")\n",
    "    plt.plot(mae_metrics, 'r', label = \"MAE\")\n",
    "    plt.legend()\n",
    "    plt.show()\n",
    "\n",
    "    # Then we print the results for this epoch:\n",
    "    print(\"Epoch {} of {} took {:.3f}s\".format(budget_iter + 1, \n",
    "            np.minimum(math.ceil(len(X_query_copy) // q_batch), math.ceil(budget // q_batch)), \n",
    "            time.time() - al_start_time))\n",
    "    print(\"RMSE metrics: \\t{:.6f}\".format(rmse_metrics[-1]))\n",
    "    print(\"MAE megrics: \\t{:.6f}\".format(mae_metrics[-1]))\n",
    "    \n",
    "    # Save\n",
    "    #torch.save({'state_dict': model.state_dict()}, 'checkpoint.pth.tar')\n",
    "    #np.save(\"train_loss_per_epoch\", train_loss_per_epoch)\n",
    "    #np.save(\"val_loss_per_epoch\", val_loss_per_epoch)"
   ]
  }
 ],
 "metadata": {
  "kernelspec": {
   "display_name": "Python 3",
   "language": "python",
   "name": "python3"
  },
  "language_info": {
   "codemirror_mode": {
    "name": "ipython",
    "version": 3
   },
   "file_extension": ".py",
   "mimetype": "text/x-python",
   "name": "python",
   "nbconvert_exporter": "python",
   "pygments_lexer": "ipython3",
   "version": "3.6.7"
  }
 },
 "nbformat": 4,
 "nbformat_minor": 2
}
