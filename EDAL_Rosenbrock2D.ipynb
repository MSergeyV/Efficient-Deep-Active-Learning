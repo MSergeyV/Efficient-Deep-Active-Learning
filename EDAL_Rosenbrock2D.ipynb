{
 "cells": [
  {
   "cell_type": "markdown",
   "metadata": {},
   "source": [
    "# About This Notebook\n",
    "\n",
    "# Efficient Deep Active Learning (EDAL)"
   ]
  },
  {
   "cell_type": "markdown",
   "metadata": {},
   "source": [
    "**In this notebook we will do several experiments related to the problem for efficient Active Learning. More precicely, we will consider Resenbrock2D problem. As for acquisition function, we take Maximum Variance. For now, we will just use Gpytorch library, that provide us powefull and commputationally efficeint implementation of Gaussian Processes on Pytorch. We compare simple GP and GP with Neural Network. For predictive purposes, we will use LOVE method.**\n",
    "\n",
    "<img src=\"EDAL.jpg\">"
   ]
  },
  {
   "cell_type": "code",
   "execution_count": 1,
   "metadata": {},
   "outputs": [
    {
     "data": {
      "text/html": [
       "<script type=\"text/javascript\">window.PlotlyConfig = {MathJaxConfig: 'local'};</script><script type=\"text/javascript\">if (window.MathJax) {MathJax.Hub.Config({SVG: {font: \"STIX-Web\"}});}</script><script>requirejs.config({paths: { 'plotly': ['https://cdn.plot.ly/plotly-latest.min']},});if(!window._Plotly) {require(['plotly'],function(plotly) {window._Plotly=plotly;});}</script>"
      ],
      "text/vnd.plotly.v1+html": [
       "<script type=\"text/javascript\">window.PlotlyConfig = {MathJaxConfig: 'local'};</script><script type=\"text/javascript\">if (window.MathJax) {MathJax.Hub.Config({SVG: {font: \"STIX-Web\"}});}</script><script>requirejs.config({paths: { 'plotly': ['https://cdn.plot.ly/plotly-latest.min']},});if(!window._Plotly) {require(['plotly'],function(plotly) {window._Plotly=plotly;});}</script>"
      ]
     },
     "metadata": {},
     "output_type": "display_data"
    },
    {
     "data": {
      "text/plain": [
       "<torch._C.Generator at 0x1233ada30>"
      ]
     },
     "execution_count": 1,
     "metadata": {},
     "output_type": "execute_result"
    }
   ],
   "source": [
    "from matplotlib import image\n",
    "from matplotlib.pyplot import imread\n",
    "from IPython import display\n",
    "\n",
    "import os\n",
    "import time\n",
    "import math\n",
    "from copy import deepcopy\n",
    "\n",
    "from sklearn.model_selection import train_test_split\n",
    "from sklearn.utils import shuffle\n",
    "from scipy.optimize import rosen\n",
    "\n",
    "# Visualization\n",
    "import numpy as np\n",
    "import matplotlib.pyplot as plt\n",
    "%matplotlib inline\n",
    "\n",
    "import plotly\n",
    "import plotly.graph_objs as go\n",
    "\n",
    "# To plot in offline \n",
    "plotly.offline.init_notebook_mode(connected=True)\n",
    "\n",
    "\n",
    "# torch\n",
    "import torch\n",
    "import torch.nn as nn\n",
    "import torch.nn.functional as F\n",
    "from torch.autograd import Variable\n",
    "\n",
    "\n",
    "import gpytorch\n",
    "torch.random.manual_seed(123456)"
   ]
  },
  {
   "cell_type": "markdown",
   "metadata": {},
   "source": [
    "# Generating Data"
   ]
  },
  {
   "cell_type": "code",
   "execution_count": 2,
   "metadata": {},
   "outputs": [
    {
     "data": {
      "text/plain": [
       "((100, 2), (100,), (900, 2), (900,), (100, 2), (100,))"
      ]
     },
     "execution_count": 2,
     "metadata": {},
     "output_type": "execute_result"
    }
   ],
   "source": [
    "np.random.seed(123)\n",
    "\n",
    "num_train_points = 1000\n",
    "num_test_points = 100\n",
    "num_dims = 2\n",
    "\n",
    "X = np.random.random((num_train_points, num_dims))\n",
    "#y = rosen(X.T).reshape(-1, 1)\n",
    "y = rosen(X.T)\n",
    "\n",
    "X_train, X_pool, y_train, y_pool = train_test_split(X, y, test_size = 0.9)\n",
    "\n",
    "\n",
    "X_test = np.random.random((num_test_points, num_dims))\n",
    "y_test = rosen(X_test.T)\n",
    "\n",
    "X_train.shape, y_train.shape, X_pool.shape, y_pool.shape, X_test.shape, y_test.shape"
   ]
  },
  {
   "cell_type": "code",
   "execution_count": 3,
   "metadata": {},
   "outputs": [
    {
     "data": {
      "text/plain": [
       "(torch.Size([100, 2]),\n",
       " torch.Size([100]),\n",
       " torch.Size([900, 2]),\n",
       " torch.Size([900]),\n",
       " torch.Size([100, 2]),\n",
       " torch.Size([100]))"
      ]
     },
     "execution_count": 3,
     "metadata": {},
     "output_type": "execute_result"
    }
   ],
   "source": [
    "X_train = torch.Tensor(X_train)\n",
    "y_train = torch.Tensor(y_train)\n",
    "\n",
    "X_pool = torch.Tensor(X_pool)\n",
    "y_pool = torch.Tensor(y_pool)\n",
    "\n",
    "X_test = torch.Tensor(X_test)\n",
    "y_test = torch.Tensor(y_test)\n",
    "\n",
    "X_train.shape, y_train.shape, X_pool.shape, y_pool.shape, X_test.shape, y_test.shape"
   ]
  },
  {
   "cell_type": "markdown",
   "metadata": {},
   "source": [
    "# Required Functions for model and training"
   ]
  },
  {
   "cell_type": "code",
   "execution_count": 4,
   "metadata": {},
   "outputs": [],
   "source": [
    "class GPRegressionModel(gpytorch.models.ExactGP):\n",
    "        def __init__(self, train_x, train_y, likelihood):\n",
    "            super(GPRegressionModel, self).__init__(train_x, train_y, likelihood)\n",
    "            self.mean_module = gpytorch.means.ConstantMean()\n",
    "            self.covar_module = gpytorch.kernels.ScaleKernel(\n",
    "                gpytorch.kernels.RBFKernel()\n",
    "            )\n",
    "            \n",
    "        def forward(self, x):\n",
    "            mean_x = self.mean_module(x)\n",
    "            covar_x = self.covar_module(x)\n",
    "            return gpytorch.distributions.MultivariateNormal(mean_x, covar_x)"
   ]
  },
  {
   "cell_type": "code",
   "execution_count": 5,
   "metadata": {},
   "outputs": [],
   "source": [
    "def train(gp_model, opt, mll_loss, train_X, train_y):\n",
    "    \n",
    "    for i in range(training_iterations):\n",
    "        \n",
    "        opt.zero_grad()\n",
    "        output = gp_model(train_X)\n",
    "        loss = -mll_loss(output, train_y)\n",
    "        loss.backward()\n",
    "        opt.step()    \n",
    "        \n",
    "        # Then we print the results for this epoch:\n",
    "        print('Iter %d/%d -MLL Loss: %.3f' % (i + 1, training_iterations, loss.item()))"
   ]
  },
  {
   "cell_type": "code",
   "execution_count": 6,
   "metadata": {},
   "outputs": [],
   "source": [
    "def Max_Variance_Query_Function(model, likelihood, pool_X, q_batch, mode):\n",
    "    \n",
    "    # Set into eval mode\n",
    "    model.eval()\n",
    "    likelihood.eval()\n",
    "    \n",
    "    if mode == 'simple':\n",
    "        with torch.no_grad():\n",
    "            start_time = time.time()\n",
    "            preds = model(pool_X)\n",
    "            exact_covar = preds.covariance_matrix\n",
    "            exact_covar_time = time.time() - start_time\n",
    "        return torch.sort(torch.diag(exact_covar), descending=True)[1][:q_batch], exact_covar_time   \n",
    "    \n",
    "    elif mode == 'fast':\n",
    "        with torch.no_grad(), gpytorch.settings.fast_pred_var(), gpytorch.settings.max_root_decomposition_size(500):\n",
    "            start_time = time.time()\n",
    "            preds = model(pool_x)\n",
    "            fast_covar = preds.covariance_matrix\n",
    "            fast_covar_time_without_cashe = time.time() - start_time\n",
    "        \n",
    "        return torch.sort(torch.diag(fast_covar), descending=True)[1][:q_batch], fast_covar_time_without_cashe\n",
    "    \n",
    "    else:\n",
    "        raise Exception(\"Check mode: simple or fast only\")"
   ]
  },
  {
   "cell_type": "markdown",
   "metadata": {},
   "source": [
    "# Experiment 1:\n",
    "\n",
    "**In this experiment, we compare time of evaluation of covariance matrix for Test set using two approaches: without and with LOVE. We will use implemented in Gpytorch models, based on \"Constant-Time Predictions for GP\" article.:**"
   ]
  },
  {
   "cell_type": "code",
   "execution_count": 7,
   "metadata": {},
   "outputs": [],
   "source": [
    "likelihood = gpytorch.likelihoods.GaussianLikelihood()\n",
    "model = GPRegressionModel(X_train, y_train, likelihood)"
   ]
  },
  {
   "cell_type": "code",
   "execution_count": 8,
   "metadata": {},
   "outputs": [],
   "source": [
    "# Find optimal model hyperparameters\n",
    "model.train()\n",
    "likelihood.train()\n",
    "\n",
    "# Use the adam optimizer\n",
    "optimizer = torch.optim.Adam([\n",
    "    {'params': model.parameters()},  # Includes GaussianLikelihood parameters\n",
    "], lr=0.1)\n",
    "\n",
    "# \"Loss\" for GPs - the marginal log likelihood\n",
    "mll = gpytorch.mlls.ExactMarginalLogLikelihood(likelihood, model)\n",
    "\n",
    "training_iterations = 20"
   ]
  },
  {
   "cell_type": "code",
   "execution_count": 9,
   "metadata": {
    "scrolled": true
   },
   "outputs": [
    {
     "name": "stdout",
     "output_type": "stream",
     "text": [
      "Iter 1/20 -MLL Loss: 138.818\n",
      "Iter 2/20 -MLL Loss: 118.718\n",
      "Iter 3/20 -MLL Loss: 101.409\n",
      "Iter 4/20 -MLL Loss: 86.778\n",
      "Iter 5/20 -MLL Loss: 74.664\n",
      "Iter 6/20 -MLL Loss: 64.822\n",
      "Iter 7/20 -MLL Loss: 57.009\n",
      "Iter 8/20 -MLL Loss: 50.895\n",
      "Iter 9/20 -MLL Loss: 46.182\n",
      "Iter 10/20 -MLL Loss: 42.559\n",
      "Iter 11/20 -MLL Loss: 39.751\n",
      "Iter 12/20 -MLL Loss: 37.552\n",
      "Iter 13/20 -MLL Loss: 35.771\n",
      "Iter 14/20 -MLL Loss: 34.314\n",
      "Iter 15/20 -MLL Loss: 33.093\n",
      "Iter 16/20 -MLL Loss: 32.043\n",
      "Iter 17/20 -MLL Loss: 31.149\n",
      "Iter 18/20 -MLL Loss: 30.322\n",
      "Iter 19/20 -MLL Loss: 29.581\n",
      "Iter 20/20 -MLL Loss: 28.909\n",
      "CPU times: user 837 ms, sys: 12.6 ms, total: 850 ms\n",
      "Wall time: 321 ms\n"
     ]
    }
   ],
   "source": [
    "%time train(model, optimizer, mll, X_train, y_train)"
   ]
  },
  {
   "cell_type": "code",
   "execution_count": 10,
   "metadata": {},
   "outputs": [],
   "source": [
    "# Set into eval mode\n",
    "model.eval()\n",
    "likelihood.eval()\n",
    "\n",
    "with torch.no_grad():\n",
    "    start_time = time.time()\n",
    "    preds = model(X_pool)\n",
    "    exact_covar = preds.covariance_matrix\n",
    "    exact_covar_time = time.time() - start_time"
   ]
  },
  {
   "cell_type": "code",
   "execution_count": 11,
   "metadata": {},
   "outputs": [
    {
     "name": "stdout",
     "output_type": "stream",
     "text": [
      "Time to compute exact mean + covariances: 0.11s\n"
     ]
    }
   ],
   "source": [
    "print('Time to compute exact mean + covariances: {:.2f}s'.format(exact_covar_time))"
   ]
  },
  {
   "cell_type": "code",
   "execution_count": 12,
   "metadata": {},
   "outputs": [],
   "source": [
    "with torch.no_grad(), gpytorch.settings.fast_pred_var(), gpytorch.settings.max_root_decomposition_size(25):\n",
    "    start_time = time.time()\n",
    "    preds = model(X_pool)\n",
    "    fast_covar = preds.covariance_matrix\n",
    "    fast_time_with_cache = time.time() - start_time"
   ]
  },
  {
   "cell_type": "code",
   "execution_count": 13,
   "metadata": {},
   "outputs": [
    {
     "name": "stdout",
     "output_type": "stream",
     "text": [
      "Time to compute mean + covariances (with cache) 0.08s\n"
     ]
    }
   ],
   "source": [
    "print('Time to compute mean + covariances (with cache) {:.2f}s'.format(fast_time_with_cache))"
   ]
  },
  {
   "cell_type": "code",
   "execution_count": 14,
   "metadata": {},
   "outputs": [
    {
     "name": "stdout",
     "output_type": "stream",
     "text": [
      "MAE between exact covar matrix and fast covar matrix: 0.0009841733844950795\n"
     ]
    }
   ],
   "source": [
    "print('MAE between exact covar matrix and fast covar matrix: {}'.format((exact_covar - fast_covar).abs().mean()))"
   ]
  },
  {
   "cell_type": "markdown",
   "metadata": {},
   "source": [
    "# Conclusion:\n",
    "\n",
    "**As we can see, predictions with LOVE needed less time for computing them with a big MAE accuracy. And this compational gap will significantly increase with dimensionality and number of training points.**"
   ]
  },
  {
   "cell_type": "markdown",
   "metadata": {},
   "source": [
    "# Experiment 2"
   ]
  },
  {
   "cell_type": "markdown",
   "metadata": {},
   "source": [
    "# Active Learning withn Maximum Variance Query Strategy"
   ]
  },
  {
   "cell_type": "code",
   "execution_count": 15,
   "metadata": {},
   "outputs": [],
   "source": [
    "X_train_copy = deepcopy(X_train)\n",
    "y_train_copy = deepcopy(y_train)\n",
    "\n",
    "X_pool_copy = deepcopy(X_pool)\n",
    "y_pool_copy = deepcopy(y_pool)\n",
    "\n",
    "X_test_copy = deepcopy(X_test)\n",
    "y_test_copy = deepcopy(y_test)"
   ]
  },
  {
   "cell_type": "code",
   "execution_count": 16,
   "metadata": {},
   "outputs": [],
   "source": [
    "likelihood = gpytorch.likelihoods.GaussianLikelihood()\n",
    "model = GPRegressionModel(X_train_copy, y_train_copy, likelihood)"
   ]
  },
  {
   "cell_type": "code",
   "execution_count": 17,
   "metadata": {},
   "outputs": [],
   "source": [
    "# Find optimal model hyperparameters\n",
    "model.train()\n",
    "likelihood.train()\n",
    "\n",
    "# Use the adam optimizer\n",
    "optimizer = torch.optim.Adam([\n",
    "    {'params': model.parameters()},  # Includes GaussianLikelihood parameters\n",
    "], lr=0.1)\n",
    "\n",
    "# \"Loss\" for GPs - the marginal log likelihood\n",
    "mll = gpytorch.mlls.ExactMarginalLogLikelihood(likelihood, model)\n",
    "\n",
    "training_iterations = 20"
   ]
  },
  {
   "cell_type": "code",
   "execution_count": 18,
   "metadata": {
    "scrolled": true
   },
   "outputs": [
    {
     "name": "stdout",
     "output_type": "stream",
     "text": [
      "Iter 1/20 -MLL Loss: 138.820\n",
      "Iter 2/20 -MLL Loss: 118.718\n",
      "Iter 3/20 -MLL Loss: 101.405\n",
      "Iter 4/20 -MLL Loss: 86.778\n",
      "Iter 5/20 -MLL Loss: 74.656\n",
      "Iter 6/20 -MLL Loss: 64.830\n",
      "Iter 7/20 -MLL Loss: 57.018\n",
      "Iter 8/20 -MLL Loss: 50.894\n",
      "Iter 9/20 -MLL Loss: 46.180\n",
      "Iter 10/20 -MLL Loss: 42.556\n",
      "Iter 11/20 -MLL Loss: 39.735\n",
      "Iter 12/20 -MLL Loss: 37.549\n",
      "Iter 13/20 -MLL Loss: 35.778\n",
      "Iter 14/20 -MLL Loss: 34.323\n",
      "Iter 15/20 -MLL Loss: 33.106\n",
      "Iter 16/20 -MLL Loss: 32.054\n",
      "Iter 17/20 -MLL Loss: 31.151\n",
      "Iter 18/20 -MLL Loss: 30.332\n",
      "Iter 19/20 -MLL Loss: 29.589\n",
      "Iter 20/20 -MLL Loss: 28.884\n",
      "CPU times: user 837 ms, sys: 8.67 ms, total: 846 ms\n",
      "Wall time: 319 ms\n"
     ]
    }
   ],
   "source": [
    "%time train(model, optimizer, mll, X_train_copy, y_train_copy)"
   ]
  },
  {
   "cell_type": "code",
   "execution_count": 19,
   "metadata": {},
   "outputs": [
    {
     "data": {
      "image/png": "[encoded data removed]",
      "text/plain": [
       "<Figure size 576x432 with 1 Axes>"
      ]
     },
     "metadata": {
      "needs_background": "light"
     },
     "output_type": "display_data"
    },
    {
     "name": "stdout",
     "output_type": "stream",
     "text": [
      "Epoch 30 of 30 took 1.389s\n",
      "RMSE metrics: \t1.688533\n",
      "MAE megrics: \t1.196009\n"
     ]
    }
   ],
   "source": [
    "budget = 30\n",
    "q_batch = 5\n",
    "mode = 'simple'\n",
    "training_iterations = 60\n",
    "\n",
    "times = []\n",
    "rmse_metrics = []\n",
    "mae_metrics = []\n",
    "\n",
    "for budget_iter in range(0, budget):    \n",
    "    \n",
    "    al_start_time = time.time()\n",
    "    \n",
    "    if len(X_pool_copy) == 0:\n",
    "        break\n",
    "    \n",
    "    # Get query points\n",
    "    if q_batch < len(X_pool_copy):\n",
    "        query_points, query_time = Max_Variance_Query_Function(model, likelihood, X_pool_copy, \n",
    "                                                               q_batch, mode)\n",
    "    \n",
    "    else:\n",
    "        ##TO DO \n",
    "        # Add the right time\n",
    "        ##\n",
    "        query_points, query_time = torch.arange(0, len(X_pool_copy)), times[-1]\n",
    "\n",
    "    \n",
    "    times.append(query_time)\n",
    "    \n",
    "    # Add query_points to Train set\n",
    "    X_train_copy = torch.cat((X_train_copy, X_pool_copy[query_points]), 0)\n",
    "    y_train_copy = torch.cat((y_train_copy, y_pool_copy[query_points]), 0)\n",
    "    \n",
    "    # Delete points from Query Set\n",
    "    # Is any opportunity to do it in anothe way?        \n",
    "    mask = torch.ones(len(X_pool_copy), dtype=torch.uint8)\n",
    "    mask[query_points] = 0\n",
    "    X_pool_copy = X_pool_copy[mask, ...]\n",
    "    y_pool_copy = y_pool_copy[mask]\n",
    "    \n",
    "    # Creating model\n",
    "    likelihood = gpytorch.likelihoods.GaussianLikelihood()\n",
    "    model = GPRegressionModel(X_train_copy, y_train_copy, likelihood)\n",
    "    \n",
    "    # Training\n",
    "    # Find optimal model hyperparameters\n",
    "    model.train()\n",
    "    likelihood.train()\n",
    "\n",
    "    # Use the adam optimizer \n",
    "    # Includes GaussianLikelihood parameters\n",
    "    optimizer = torch.optim.Adam([{'params': model.parameters()}], lr=0.1)\n",
    "\n",
    "    # \"Loss\" for GPs - the marginal log likelihood\n",
    "    mll = gpytorch.mlls.ExactMarginalLogLikelihood(likelihood, model)\n",
    "    \n",
    "    train(model, optimizer, mll, X_train_copy, y_train_copy)\n",
    "    \n",
    "    # Calculate Covariance for test points using simple SKI\n",
    "    \n",
    "    # Set into eval mode\n",
    "    model.eval()\n",
    "    likelihood.eval()\n",
    "\n",
    "    with torch.no_grad():\n",
    "        preds = model(X_test_copy)\n",
    "        \n",
    "    # calculate metrics\n",
    "    rmse = torch.sqrt(torch.mean(torch.pow(preds.mean - y_test, 2)))\n",
    "    rmse_metrics.append(rmse)\n",
    "    \n",
    "    \n",
    "    mae = torch.mean(torch.abs(preds.mean - y_test))\n",
    "    mae_metrics.append(mae)\n",
    "    \n",
    "    print('Test RMSE: {}'.format(rmse))\n",
    "    print('Test MAE: {}'.format(mae))\n",
    "    \n",
    "    \n",
    "    # Visualize\n",
    "    display.clear_output(wait=True)\n",
    "    plt.figure(figsize=(8, 6))\n",
    "\n",
    "    plt.title(\"Metrics on Test Set\")\n",
    "    plt.xlabel(\"number of AL iterations\")\n",
    "    plt.ylabel(\"Metrics\")\n",
    "    #plt.yscale('log')\n",
    "    plt.plot(rmse_metrics, 'b', label = \"RMSE\")\n",
    "    plt.plot(mae_metrics, 'r', label = \"MAE\")\n",
    "    plt.legend()\n",
    "    plt.show()\n",
    "\n",
    "    # Then we print the results for this epoch:\n",
    "    print(\"Epoch {} of {} took {:.3f}s\".format(budget_iter + 1, \n",
    "            np.minimum(math.ceil(len(X_pool) / q_batch), budget), \n",
    "            time.time() - al_start_time))\n",
    "    print(\"RMSE metrics: \\t{:.6f}\".format(rmse_metrics[-1]))\n",
    "    print(\"MAE megrics: \\t{:.6f}\".format(mae_metrics[-1]))\n",
    "    \n",
    "    # Save\n",
    "    #torch.save({'state_dict': model.state_dict()}, 'checkpoint.pth.tar')\n",
    "    #np.save(\"train_loss_per_epoch\", train_loss_per_epoch)\n",
    "    #np.save(\"val_loss_per_epoch\", val_loss_per_epoch)"
   ]
  },
  {
   "cell_type": "code",
   "execution_count": 20,
   "metadata": {},
   "outputs": [],
   "source": [
    "MV_rmse_metrics = deepcopy(rmse_metrics)\n",
    "MV_mae_metrics = deepcopy(mae_metrics)\n",
    "MV_times = deepcopy(times)"
   ]
  },
  {
   "cell_type": "markdown",
   "metadata": {},
   "source": [
    "# Active Learning withn Random Sampling Query Strategy"
   ]
  },
  {
   "cell_type": "code",
   "execution_count": 21,
   "metadata": {},
   "outputs": [],
   "source": [
    "X_train_copy = deepcopy(X_train)\n",
    "y_train_copy = deepcopy(y_train)\n",
    "\n",
    "X_pool_copy = deepcopy(X_pool)\n",
    "y_pool_copy = deepcopy(y_pool)\n",
    "\n",
    "X_test_copy = deepcopy(X_test)\n",
    "y_test_copy = deepcopy(y_test)"
   ]
  },
  {
   "cell_type": "code",
   "execution_count": 22,
   "metadata": {},
   "outputs": [],
   "source": [
    "likelihood = gpytorch.likelihoods.GaussianLikelihood()\n",
    "model = GPRegressionModel(X_train_copy, y_train_copy, likelihood)"
   ]
  },
  {
   "cell_type": "code",
   "execution_count": 23,
   "metadata": {},
   "outputs": [],
   "source": [
    "# Find optimal model hyperparameters\n",
    "model.train()\n",
    "likelihood.train()\n",
    "\n",
    "# Use the adam optimizer\n",
    "optimizer = torch.optim.Adam([\n",
    "    {'params': model.parameters()},  # Includes GaussianLikelihood parameters\n",
    "], lr=0.1)\n",
    "\n",
    "# \"Loss\" for GPs - the marginal log likelihood\n",
    "mll = gpytorch.mlls.ExactMarginalLogLikelihood(likelihood, model)\n",
    "\n",
    "training_iterations = 20"
   ]
  },
  {
   "cell_type": "code",
   "execution_count": 24,
   "metadata": {
    "scrolled": true
   },
   "outputs": [
    {
     "name": "stdout",
     "output_type": "stream",
     "text": [
      "Iter 1/20 -MLL Loss: 138.817\n",
      "Iter 2/20 -MLL Loss: 118.719\n",
      "Iter 3/20 -MLL Loss: 101.413\n",
      "Iter 4/20 -MLL Loss: 86.777\n",
      "Iter 5/20 -MLL Loss: 74.660\n",
      "Iter 6/20 -MLL Loss: 64.824\n",
      "Iter 7/20 -MLL Loss: 57.004\n",
      "Iter 8/20 -MLL Loss: 50.896\n",
      "Iter 9/20 -MLL Loss: 46.190\n",
      "Iter 10/20 -MLL Loss: 42.549\n",
      "Iter 11/20 -MLL Loss: 39.746\n",
      "Iter 12/20 -MLL Loss: 37.536\n",
      "Iter 13/20 -MLL Loss: 35.773\n",
      "Iter 14/20 -MLL Loss: 34.334\n",
      "Iter 15/20 -MLL Loss: 33.112\n",
      "Iter 16/20 -MLL Loss: 32.068\n",
      "Iter 17/20 -MLL Loss: 31.160\n",
      "Iter 18/20 -MLL Loss: 30.316\n",
      "Iter 19/20 -MLL Loss: 29.589\n",
      "Iter 20/20 -MLL Loss: 28.913\n",
      "CPU times: user 807 ms, sys: 8.3 ms, total: 815 ms\n",
      "Wall time: 308 ms\n"
     ]
    }
   ],
   "source": [
    "%time train(model, optimizer, mll, X_train_copy, y_train_copy)"
   ]
  },
  {
   "cell_type": "code",
   "execution_count": 25,
   "metadata": {},
   "outputs": [
    {
     "data": {
      "image/png": "[encoded data removed]",
      "text/plain": [
       "<Figure size 576x432 with 1 Axes>"
      ]
     },
     "metadata": {
      "needs_background": "light"
     },
     "output_type": "display_data"
    },
    {
     "name": "stdout",
     "output_type": "stream",
     "text": [
      "Epoch 30 of 30 took 1.318s\n",
      "RMSE metrics: \t2.087131\n",
      "MAE megrics: \t1.363019\n"
     ]
    }
   ],
   "source": [
    "budget = 30\n",
    "q_batch = 5\n",
    "training_iterations = 60\n",
    "\n",
    "times = []\n",
    "rmse_metrics = []\n",
    "mae_metrics = []\n",
    "\n",
    "for budget_iter in range(0, budget):    \n",
    "    \n",
    "    al_start_time = time.time()\n",
    "    \n",
    "    if len(X_pool_copy) == 0:\n",
    "        break\n",
    "    \n",
    "    # Get query points\n",
    "    if q_batch < len(X_pool_copy):\n",
    "        query_points = torch.randperm(len(X_pool_copy))[:q_batch]\n",
    "    \n",
    "    else:\n",
    "        ##TO DO \n",
    "        # Add the right time\n",
    "        ##\n",
    "        query_points, query_time = torch.arange(0, len(X_pool_copy)), times[-1]\n",
    "\n",
    "    \n",
    "    times.append(query_time)\n",
    "    \n",
    "    # Add query_points to Train set\n",
    "    X_train_copy = torch.cat((X_train_copy, X_pool_copy[query_points]), 0)\n",
    "    y_train_copy = torch.cat((y_train_copy, y_pool_copy[query_points]), 0)\n",
    "    \n",
    "    # Delete points from Query Set\n",
    "    # Is any opportunity to do it in anothe way?        \n",
    "    mask = torch.ones(len(X_pool_copy), dtype=torch.uint8)\n",
    "    mask[query_points] = 0\n",
    "    X_pool_copy = X_pool_copy[mask, ...]\n",
    "    y_pool_copy = y_pool_copy[mask]\n",
    "    \n",
    "    # Creating model\n",
    "    likelihood = gpytorch.likelihoods.GaussianLikelihood()\n",
    "    model = GPRegressionModel(X_train_copy, y_train_copy, likelihood)\n",
    "    \n",
    "    # Training\n",
    "    # Find optimal model hyperparameters\n",
    "    model.train()\n",
    "    likelihood.train()\n",
    "\n",
    "    # Use the adam optimizer \n",
    "    # Includes GaussianLikelihood parameters\n",
    "    optimizer = torch.optim.Adam([{'params': model.parameters()}], lr=0.1)\n",
    "\n",
    "    # \"Loss\" for GPs - the marginal log likelihood\n",
    "    mll = gpytorch.mlls.ExactMarginalLogLikelihood(likelihood, model)\n",
    "    \n",
    "    train(model, optimizer, mll, X_train_copy, y_train_copy)\n",
    "    \n",
    "    # Calculate Covariance for test points using simple SKI\n",
    "    \n",
    "    # Set into eval mode\n",
    "    model.eval()\n",
    "    likelihood.eval()\n",
    "\n",
    "    with torch.no_grad():\n",
    "        preds = model(X_test_copy)\n",
    "        \n",
    "    # calculate metrics\n",
    "    rmse = torch.sqrt(torch.mean(torch.pow(preds.mean - y_test, 2)))\n",
    "    rmse_metrics.append(rmse)\n",
    "    \n",
    "    \n",
    "    mae = torch.mean(torch.abs(preds.mean - y_test))\n",
    "    mae_metrics.append(mae)\n",
    "    \n",
    "    print('Test RMSE: {}'.format(rmse))\n",
    "    print('Test MAE: {}'.format(mae))\n",
    "    \n",
    "    \n",
    "    # Visualize\n",
    "    display.clear_output(wait=True)\n",
    "    plt.figure(figsize=(8, 6))\n",
    "\n",
    "    plt.title(\"Metrics on Test Set\")\n",
    "    plt.xlabel(\"number of AL iterations\")\n",
    "    plt.ylabel(\"Metrics\")\n",
    "    #plt.yscale('log')\n",
    "    plt.plot(rmse_metrics, 'b', label = \"RMSE\")\n",
    "    plt.plot(mae_metrics, 'r', label = \"MAE\")\n",
    "    plt.legend()\n",
    "    plt.show()\n",
    "\n",
    "    # Then we print the results for this epoch:\n",
    "    print(\"Epoch {} of {} took {:.3f}s\".format(budget_iter + 1, \n",
    "            np.minimum(math.ceil(len(X_pool) / q_batch), budget), \n",
    "            time.time() - al_start_time))\n",
    "    print(\"RMSE metrics: \\t{:.6f}\".format(rmse_metrics[-1]))\n",
    "    print(\"MAE megrics: \\t{:.6f}\".format(mae_metrics[-1]))\n",
    "    \n",
    "    # Save\n",
    "    #torch.save({'state_dict': model.state_dict()}, 'checkpoint.pth.tar')\n",
    "    #np.save(\"train_loss_per_epoch\", train_loss_per_epoch)\n",
    "    #np.save(\"val_loss_per_epoch\", val_loss_per_epoch)"
   ]
  },
  {
   "cell_type": "code",
   "execution_count": 26,
   "metadata": {},
   "outputs": [],
   "source": [
    "RS_rmse_metrics = deepcopy(rmse_metrics)\n",
    "RS_mae_metrics = deepcopy(mae_metrics)\n",
    "RS_times = deepcopy(times)"
   ]
  },
  {
   "cell_type": "markdown",
   "metadata": {},
   "source": [
    "# Plotting and Comparison"
   ]
  },
  {
   "cell_type": "code",
   "execution_count": 27,
   "metadata": {},
   "outputs": [
    {
     "data": {
      "image/png": "[encoded data removed]",
      "text/plain": [
       "<Figure size 1080x432 with 2 Axes>"
      ]
     },
     "metadata": {
      "needs_background": "light"
     },
     "output_type": "display_data"
    }
   ],
   "source": [
    "fig = plt.figure(figsize=(15, 6))\n",
    "\n",
    "ax1 = fig.add_subplot(121)\n",
    "\n",
    "ax1.plot(MV_rmse_metrics, 'r', label = \"Maximum Variance\")\n",
    "ax1.plot(RS_rmse_metrics, 'b', label = \"Random Sampling\")\n",
    "\n",
    "ax1.set_xlabel(\"number of AL iterations\")\n",
    "ax1.set_ylabel(\"Metrics\")\n",
    "ax1.set_title(\"RMSE on Test Set\")\n",
    "ax1.legend()\n",
    "\n",
    "############################################\n",
    "ax2 = fig.add_subplot(122)\n",
    "\n",
    "ax2.plot(MV_mae_metrics, 'g', label = \"Maximum Variance\")\n",
    "ax2.plot(RS_mae_metrics, 'y', label = \"Random Sampling\")\n",
    "\n",
    "ax2.set_xlabel(\"number of AL iterations\")\n",
    "ax2.set_ylabel(\"Metrics\")\n",
    "ax2.set_title(\"MAE on Test Set\")\n",
    "ax2.legend()\n",
    "\n",
    "plt.show()"
   ]
  },
  {
   "cell_type": "markdown",
   "metadata": {},
   "source": [
    "# Conclusion\n",
    "\n",
    "**As we may see, using Maximum Variance Query Strategy allow us to obtain significantly better convergence on this task.**"
   ]
  },
  {
   "cell_type": "code",
   "execution_count": null,
   "metadata": {},
   "outputs": [],
   "source": []
  },
  {
   "cell_type": "code",
   "execution_count": null,
   "metadata": {},
   "outputs": [],
   "source": []
  }
 ],
 "metadata": {
  "kernelspec": {
   "display_name": "Python 3",
   "language": "python",
   "name": "python3"
  },
  "language_info": {
   "codemirror_mode": {
    "name": "ipython",
    "version": 3
   },
   "file_extension": ".py",
   "mimetype": "text/x-python",
   "name": "python",
   "nbconvert_exporter": "python",
   "pygments_lexer": "ipython3",
   "version": "3.6.7"
  }
 },
 "nbformat": 4,
 "nbformat_minor": 2
}
